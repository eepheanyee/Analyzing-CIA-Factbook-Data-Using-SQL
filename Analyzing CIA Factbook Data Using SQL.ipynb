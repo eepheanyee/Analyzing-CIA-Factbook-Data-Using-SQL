{
 "cells": [
  {
   "cell_type": "markdown",
   "id": "78fe7557",
   "metadata": {},
   "source": [
    "### Guided Project: Analyzing CIA Factbook Data Using SQL\n",
    "\n",
    "#### INTRODUCTION\n",
    "\n",
    "In this project, I'll work with data from the [CIA World Factbook](https://www.cia.gov/the-world-factbook/), a compendium of statistics about all of the countries on Earth. The factbook contains demographic information like the following:\n",
    "- `population` — the global population.\n",
    "- `population_growth` — the annual population growth rate, as a percentage.\n",
    "- `area` — the total land and water area.\n",
    "\n",
    "In this project, I'll use SQL in Jupyter Notebook to analyze data from this database. If you want to work on this project locally, you can download the SQLite factbook.db database [here](https://dsserver-prod-resources-1.s3.amazonaws.com/257/factbook.db)"
   ]
  },
  {
   "cell_type": "code",
   "execution_count": 1,
   "id": "2ac5c237",
   "metadata": {},
   "outputs": [
    {
     "name": "stdout",
     "output_type": "stream",
     "text": [
      "Collecting package metadata (current_repodata.json): ...working... done\n",
      "Solving environment: ...working... done\n",
      "\n",
      "# All requested packages already installed.\n",
      "\n"
     ]
    }
   ],
   "source": [
    "!conda install -yc conda-forge ipython-sql"
   ]
  },
  {
   "cell_type": "markdown",
   "id": "be37e9d7",
   "metadata": {},
   "source": [
    "I'll use the following code to connect our Jupyter Notebook to our database file:\n",
    "\n",
    "__NB:__ The database file should be in the same folder as the notebook file"
   ]
  },
  {
   "cell_type": "code",
   "execution_count": 2,
   "id": "7f414208",
   "metadata": {},
   "outputs": [
    {
     "name": "stdout",
     "output_type": "stream",
     "text": [
      "Requirement already satisfied: emoji in c:\\programdata\\anaconda3\\lib\\site-packages (1.6.3)\n",
      "Note: you may need to restart the kernel to use updated packages.\n"
     ]
    }
   ],
   "source": [
    "pip install emoji --upgrade"
   ]
  },
  {
   "cell_type": "code",
   "execution_count": null,
   "id": "f62fd41a",
   "metadata": {},
   "outputs": [],
   "source": [
    "%%capture\n",
    "%load_ext sql\n",
    "%sql sqlite:///factbook.db"
   ]
  },
  {
   "cell_type": "markdown",
   "id": "ee58cd4f",
   "metadata": {},
   "source": [
    "Just to ensure that my connection was correct, I'll write a query to return all tables in the database"
   ]
  },
  {
   "cell_type": "code",
   "execution_count": null,
   "id": "793d9bdd",
   "metadata": {},
   "outputs": [],
   "source": [
    "%%sql\n",
    "SELECT *\n",
    "FROM sqlite_master\n",
    "WHERE type='table';"
   ]
  },
  {
   "cell_type": "markdown",
   "id": "50bdc783",
   "metadata": {},
   "source": [
    "\n",
    "Now lets explore the contents of the facts table as this is the table which contains the data I want to analyse"
   ]
  },
  {
   "cell_type": "code",
   "execution_count": null,
   "id": "494946d2",
   "metadata": {},
   "outputs": [],
   "source": [
    "%%sql\n",
    "SELECT *\n",
    "FROM facts\n",
    "LIMIT 5;"
   ]
  },
  {
   "cell_type": "markdown",
   "id": "80e80f48",
   "metadata": {},
   "source": [
    "From this result, I can see teh different columns in the dataset and can probably even deduce what they correspond to. But for clarity, I'll describe each column and what they correspond to.\n",
    "\n",
    "- `id` - Serial incremental identifier for table\n",
    "- `code` -Country code\n",
    "- `name` - Country name\n",
    "- `area` - Total land and water area in square kilometers\n",
    "- `area_land` - Total land area in square kilometers\n",
    "- `area_water` - Total water area in square kilometers\n",
    "- `population` - Total population of country\n",
    "- `population_growth` - Annual population growth as a percentage\n",
    "- `birth_rate` - Annual birth rate, or the number of births per year per 1,000 people.\n",
    "- `death_rate` - Annual death rate, or the number of deaths per year per 1,000 people.\n",
    "- `migration_rate` - - Annual migration rate\n",
    "\n",
    "**Now, I'll write a query to determine the minimum and maximum population and also the fastest and slowest growing population**"
   ]
  },
  {
   "cell_type": "code",
   "execution_count": null,
   "id": "bbfccdb0",
   "metadata": {},
   "outputs": [],
   "source": [
    "%%sql\n",
    "SELECT MIN(population) AS 'Minimum Population', \n",
    "    MAX(population) AS 'Maximum Population',\n",
    "    MIN(population_growth) AS 'Minimum Population Growth',\n",
    "    MAX(population_growth) AS 'Maximum Population Growth'\n",
    "FROM facts"
   ]
  },
  {
   "cell_type": "markdown",
   "id": "f9600cc9",
   "metadata": {},
   "source": [
    "*Oh wow, who would've thought there was a country with __Zero__ population right? And another country with over 7 billion people yeah? __Hmmmmmmmmmm, Is that not like the population of the whole world???__*\n",
    "\n",
    "You know what, let's see which countries these are."
   ]
  },
  {
   "cell_type": "code",
   "execution_count": null,
   "id": "d59875ce",
   "metadata": {},
   "outputs": [],
   "source": [
    "%%sql\n",
    "SELECT name, population\n",
    "FROM facts\n",
    "WHERE population in (SELECT MIN(population) FROM facts)"
   ]
  },
  {
   "cell_type": "markdown",
   "id": "b4b4a9a7",
   "metadata": {},
   "source": [
    "Oh, It obviously had to be Antarctica. Now let's see the country with the highest population"
   ]
  },
  {
   "cell_type": "code",
   "execution_count": null,
   "id": "ec7ab255",
   "metadata": {},
   "outputs": [],
   "source": [
    "%%sql\n",
    "SELECT name, population\n",
    "FROM facts\n",
    "WHERE population in (SELECT MAX(population) FROM facts)"
   ]
  },
  {
   "cell_type": "markdown",
   "id": "79fe1d4a",
   "metadata": {},
   "source": [
    "Figures. World is indicated in my dataset as a country.\n",
    "\n",
    "I'm going to recalculate max and min populations again but this time, I'll exempt the row that contains World. ANd yes, I'll have to exempt world from all my queries from now on"
   ]
  },
  {
   "cell_type": "code",
   "execution_count": null,
   "id": "b605fc85",
   "metadata": {},
   "outputs": [],
   "source": [
    "%%sql\n",
    "SELECT MIN(population) AS 'Minimum Population', \n",
    "    MAX(population) AS 'Maximum Population',\n",
    "    MIN(population_growth) AS 'Minimum Population Growth',\n",
    "    MAX(population_growth) AS 'Maximum Population Growth'\n",
    "FROM facts\n",
    "WHERE name NOT IN ('World')"
   ]
  },
  {
   "cell_type": "markdown",
   "id": "347de28f",
   "metadata": {},
   "source": [
    "Okay, I think its fairer now. 1.3 billion is the highest. I'm guessing that should be China or India. Will probably confirm that later.\n",
    "\n",
    "For now, I want to calculate the average population of all the countries and also average total surface area"
   ]
  },
  {
   "cell_type": "code",
   "execution_count": null,
   "id": "a40e5896",
   "metadata": {},
   "outputs": [],
   "source": [
    "%%sql\n",
    "SELECT ROUND(AVG(population), 2) AS 'Average Population', \n",
    "    ROUND(AVG(area), 3) AS 'Average Area'\n",
    "FROM facts\n",
    "WHERE name NOT IN ('World')"
   ]
  },
  {
   "cell_type": "markdown",
   "id": "7863a8d7",
   "metadata": {},
   "source": [
    "Great. Okay, I'm actually curious.\n",
    "\n",
    "Let me just confirm the most populous country in the world before moving on, lol."
   ]
  },
  {
   "cell_type": "code",
   "execution_count": null,
   "id": "f7694e78",
   "metadata": {},
   "outputs": [],
   "source": [
    "%%sql\n",
    "SELECT name, population\n",
    "FROM facts\n",
    "WHERE population in (SELECT MAX(population) FROM facts WHERE name NOT IN ('World'))"
   ]
  },
  {
   "cell_type": "markdown",
   "id": "6cd52631",
   "metadata": {},
   "source": [
    "I knew it. China. It just had to be. No wonder they are the world manufacturing power.\n",
    "\n",
    "**_Okay, curiosity satisfied_**\n",
    "\n",
    "Who else noticed that the average population is quite small. Just over 32 milion. \n",
    "I mean, considering the fact that we have the likes of China in this list, tehre has to be an awful lot of countries with really low population to hget this kind of average right. Cos, I mean Nigeria my country even has over 200 million people.\n",
    "\n",
    "The average area also looks kinda small I think. That's like half of Nigeria's or 60% give or take. I'm really curious to know which countries are this small.\n",
    "\n",
    "You know what, lets find the countries that have above average values for population and below average values for area"
   ]
  },
  {
   "cell_type": "code",
   "execution_count": null,
   "id": "31b588d1",
   "metadata": {},
   "outputs": [],
   "source": [
    "%%sql\n",
    "SELECT name, population\n",
    "FROM facts\n",
    "WHERE population > (SELECT ROUND(AVG(population), 2) FROM facts WHERE name NOT IN ('World'))\n",
    "AND name NOT IN ('World')"
   ]
  },
  {
   "cell_type": "markdown",
   "id": "b7f47fbf",
   "metadata": {},
   "source": [
    "_Oh wow, they are actually just a handful_"
   ]
  },
  {
   "cell_type": "code",
   "execution_count": null,
   "id": "177f78ba",
   "metadata": {},
   "outputs": [],
   "source": [
    "%%sql\n",
    "SELECT name, population\n",
    "FROM facts\n",
    "WHERE area < (SELECT ROUND(AVG(area), 3) FROM facts WHERE name NOT IN ('World'))\n",
    "AND name NOT IN ('World')"
   ]
  },
  {
   "cell_type": "markdown",
   "id": "e0213e90",
   "metadata": {},
   "source": [
    "_Okay, this is a loooooot. And there are reallllly small countries like **Cocos Island**, **Vatican city**, etc_\n",
    "\n",
    "Okay, let's see which country as the highest population growth rate"
   ]
  },
  {
   "cell_type": "code",
   "execution_count": null,
   "id": "85a033a6",
   "metadata": {},
   "outputs": [],
   "source": [
    "%%sql\n",
    "SELECT name, population_growth\n",
    "FROM facts\n",
    "WHERE population_growth IN (SELECT MAX(population_growth) FROM facts WHERE name NOT IN ('World'))"
   ]
  },
  {
   "cell_type": "markdown",
   "id": "5c0c3882",
   "metadata": {},
   "source": [
    "Okay, this one came as a surprise. Ofcourse I expected it to be in Africa. But for some reason, I did not expect it to be South Sudan.\n",
    "\n",
    "Next, I want to see which country has more water than land. I've heard there are countries that are mostly water than land.\n",
    "\n",
    "So first, let's find the ratio of water to land for all the countries yeah\n"
   ]
  },
  {
   "cell_type": "code",
   "execution_count": null,
   "id": "41f41e45",
   "metadata": {},
   "outputs": [],
   "source": [
    "%%sql\n",
    "SELECT name, area_land, area_water, ROUND(CAST(area_water AS Float)/CAST(area_land AS Float), 4) AS 'Ratio'\n",
    "FROM facts\n",
    "WHERE name != 'World'"
   ]
  },
  {
   "cell_type": "markdown",
   "id": "bc6e78b8",
   "metadata": {},
   "source": [
    "From this, the values for the OCeans are empty so it would seem that all the countries here have more land area than water. but let's still confirm that.\n"
   ]
  },
  {
   "cell_type": "code",
   "execution_count": null,
   "id": "0c78287b",
   "metadata": {},
   "outputs": [],
   "source": [
    "%%sql\n",
    "SELECT name, area_land, area_water, ROUND(CAST(area_water AS Float)/CAST(area_land AS Float), 4) AS 'Ratio'\n",
    "FROM facts\n",
    "WHERE name != 'World'\n",
    "AND Ratio > 1"
   ]
  },
  {
   "cell_type": "markdown",
   "id": "93c8380f",
   "metadata": {},
   "source": [
    "Okay, So we have just two countries with a higher water area than land area. `British Indian Ocean Territory` stands out though. Is that ven an Island or a complete water body, lol.\t\n",
    "\n",
    "Now let's explore birth and death rate. let's see which countries have a higher death rate than birth rate cos that would have to be abnormal yeah."
   ]
  },
  {
   "cell_type": "code",
   "execution_count": null,
   "id": "c06e0c02",
   "metadata": {},
   "outputs": [],
   "source": [
    "%%sql\n",
    "SELECT name, birth_rate, death_rate\n",
    "FROM facts\n",
    "WHERE name != 'World'\n",
    "AND death_rate > birth_rate"
   ]
  },
  {
   "cell_type": "markdown",
   "id": "e23faa38",
   "metadata": {},
   "source": [
    "_**WHATTTTT???**_\n",
    "\n",
    "Okay, this is too much. Germany, Japan, Italy???? I'll need to research this to find out why. This should not be.\n",
    "\n",
    "DFinally, I want to see which countries have the highest population to area ratio. Let's see which countries we can counsider over populated and **probably contract Thanos to snap a finger at them. lmao**\n"
   ]
  },
  {
   "cell_type": "code",
   "execution_count": null,
   "id": "78d766d9",
   "metadata": {},
   "outputs": [],
   "source": [
    "%%sql\n",
    "SELECT name, population, area , ROUND(CAST(population AS Float)/area, 2) AS population_area_ratio\n",
    "FROM facts\n",
    "WHERE name != 'World'\n",
    "ORDER BY population_area_ratio DESC"
   ]
  },
  {
   "cell_type": "markdown",
   "id": "aab4183b",
   "metadata": {},
   "source": [
    "I think this is too much so let me limit the results to the first 30 entries "
   ]
  },
  {
   "cell_type": "code",
   "execution_count": null,
   "id": "f49f3766",
   "metadata": {},
   "outputs": [],
   "source": [
    "%%sql\n",
    "SELECT name, population, area , ROUND(CAST(population AS Float)/area, 2) AS population_area_ratio\n",
    "FROM facts\n",
    "WHERE name != 'World'\n",
    "ORDER BY population_area_ratio DESC\n",
    "LIMIT 30"
   ]
  },
  {
   "cell_type": "markdown",
   "id": "bb35d6c9",
   "metadata": {},
   "source": [
    "I really don't care what people say but you see Macau and Monaco, definitely needs a snap of Thanos' fingers. lol.\n",
    "\n",
    "#### Thank you for following me through this journey and story. Your company is well appreciated.\n",
    "\n",
    "### THE END"
   ]
  }
 ],
 "metadata": {
  "kernelspec": {
   "display_name": "Python 3",
   "language": "python",
   "name": "python3"
  },
  "language_info": {
   "codemirror_mode": {
    "name": "ipython",
    "version": 3
   },
   "file_extension": ".py",
   "mimetype": "text/x-python",
   "name": "python",
   "nbconvert_exporter": "python",
   "pygments_lexer": "ipython3",
   "version": "3.8.8"
  }
 },
 "nbformat": 4,
 "nbformat_minor": 5
}
